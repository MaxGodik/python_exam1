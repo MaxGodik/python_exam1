import tkinter as tk
from tkinter import messagebox

class Calculator(tk.Tk):
    def __init__(self):
        super().__init__()
        self.title("Калькулятор")
        self.geometry("300x400")
        self.result_var = tk.StringVar()
        self.error_window = None

        self.create_widgets()

    def create_widgets(self):
        result_entry = tk.Entry(self, textvariable=self.result_var, font=('Arial', 18), bd=10, insertwidth=4, width=14,
                                justify='right')
        result_entry.grid(row=0, column=0, columnspan=4)

        buttons = [
            ('7', 1, 0), ('8', 1, 1), ('9', 1, 2), ('/', 1, 3),
            ('4', 2, 0), ('5', 2, 1), ('6', 2, 2), ('*', 2, 3),
            ('1', 3, 0), ('2', 3, 1), ('3', 3, 2), ('-', 3, 3),
            ('0', 4, 0), ('C', 4, 1), ('=', 4, 2), ('+', 4, 3),
        ]

        for (text, row, column) in buttons:
            tk.Button(self, text=text, command=lambda t=text: self.on_button_click(t),
                      font=('Arial', 14), padx=20, pady=20).grid(row=row, column=column)

    def on_button_click(self, text):
        current_value = self.result_var.get()

        if text == 'C':
            self.result_var.set('')
        elif text == '=':
            try:
                strategy = ExpressionStrategy()
                result = strategy.calculate(current_value)
                self.result_var.set(result)
            except ArithmeticError as e:
                self.show_error(f"Помилка обчислення: {e}")
        else:
            self.result_var.set(current_value + text)

    def show_error(self, error_text):

        if self.error_window:
            self.error_window.destroy()
            self.error_window = None

        self.error_window = tk.Toplevel(self)
        self.error_window.title("Помилка")

        error_label = tk.Label(self.error_window, text=error_text, font=('Arial', 12), pady=10)
        error_label.pack()

        self.after(5000, self.clear_error)

    def clear_error(self):
        if self.error_window:
            self.error_window.destroy()
            self.error_window = None

class ExpressionStrategy:
    def calculate(self, expression):
        return eval(expression)

if __name__ == "__main__":
    app = Calculator()
    app.mainloop()
